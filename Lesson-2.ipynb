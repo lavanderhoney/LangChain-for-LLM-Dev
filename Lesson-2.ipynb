{
 "cells": [
  {
   "cell_type": "markdown",
   "metadata": {},
   "source": [
    "# Lesson 2: LLM Memory Management with LangChain\n",
    "\n",
    "## Outline :\n",
    "* ConversationBufferMemory\n",
    "* ConversationBufferWindowMemory\n",
    "* ConversationTokenBufferMemory\n",
    "* ConversationSummaryMemory\n",
    "\n",
    "### *NOTE*: The API calls used throughout this lesson are deperecated in LangChain v0.3\n",
    "I'm still using them for learning the concept, so when creating a project, it will be easier for me to switch to newer methods"
   ]
  },
  {
   "cell_type": "markdown",
   "metadata": {},
   "source": [
    "As such, LLMs don't have a memory component, and they are stateless.\\\n",
    "A LLM can have memory in the form of context provided to it inside the prompt. So, we can proviede the conversation history, or other facts that we want the LLM to know or remember, as a part of the prompt"
   ]
  },
  {
   "cell_type": "markdown",
   "metadata": {},
   "source": []
  },
  {
   "cell_type": "markdown",
   "metadata": {},
   "source": [
    "## ConversationBufferMemory"
   ]
  },
  {
   "cell_type": "markdown",
   "metadata": {},
   "source": [
    "This will store the entire conversation history in its prompt. \\\n",
    "Obviously, this is no good for most use cases, as the API call to the LLM would get expensive (in case of cloud based LLM) or the inferencing will become slow"
   ]
  },
  {
   "cell_type": "code",
   "execution_count": 11,
   "metadata": {},
   "outputs": [],
   "source": [
    "from langchain_ollama import ChatOllama\n",
    "from langchain.chains import ConversationChain\n",
    "from langchain.memory import ConversationBufferMemory\n",
    "\n",
    "llm = ChatOllama(model=\"llama3.2\", temperature=0.9)\n",
    "memory = ConversationBufferMemory()\n",
    "conversation = ConversationChain(llm=llm, \n",
    "                          memory=memory,\n",
    "                          verbose=True)"
   ]
  },
  {
   "cell_type": "code",
   "execution_count": 12,
   "metadata": {},
   "outputs": [
    {
     "name": "stdout",
     "output_type": "stream",
     "text": [
      "\n",
      "\n",
      "\u001b[1m> Entering new ConversationChain chain...\u001b[0m\n",
      "Prompt after formatting:\n",
      "\u001b[32;1m\u001b[1;3mThe following is a friendly conversation between a human and an AI. The AI is talkative and provides lots of specific details from its context. If the AI does not know the answer to a question, it truthfully says it does not know.\n",
      "\n",
      "Current conversation:\n",
      "\n",
      "Human: Hi, my name is lavanderhoney. I'm interested in learning about AI and Quantum Computing, and how it can be used to solve the problems in our lives, and tackle sustainability issues.\n",
      "AI:\u001b[0m\n",
      "\n",
      "\u001b[1m> Finished chain.\u001b[0m\n"
     ]
    },
    {
     "data": {
      "text/plain": [
       "{'input': \"Hi, my name is lavanderhoney. I'm interested in learning about AI and Quantum Computing, and how it can be used to solve the problems in our lives, and tackle sustainability issues.\",\n",
       " 'history': '',\n",
       " 'response': \"Hello Lavanderhoney! I'm delighted to chat with you about AI and Quantum Computing. My name is Ada, by the way – I'm an artificial intelligence designed to provide information and assist with inquiries to the best of my abilities.\\n\\nIt sounds like you're interested in exploring how these technologies can help tackle some of the world's most pressing issues, including sustainability. That's a fantastic area of focus! Quantum Computing, for instance, has the potential to revolutionize fields such as climate modeling, materials science, and cryptography.\\n\\nDid you know that Google's Quantum AI Lab is already working on applying quantum computing to environmental problems? They're exploring ways to use quantum algorithms to simulate complex chemical reactions and optimize energy efficiency in materials. Fascinating stuff!\\n\\nWhat specific aspects of AI and Quantum Computing would you like to learn more about, Lavanderhoney? Are there particular sustainability challenges or areas you'd like me to dive into?\"}"
      ]
     },
     "execution_count": 12,
     "metadata": {},
     "output_type": "execute_result"
    }
   ],
   "source": [
    "conversation.invoke(\"Hi, my name is lavanderhoney. I'm interested in learning about AI and Quantum Computing, and how it can be used to solve the problems in our lives, and tackle sustainability issues.\")"
   ]
  },
  {
   "cell_type": "code",
   "execution_count": 13,
   "metadata": {},
   "outputs": [
    {
     "name": "stdout",
     "output_type": "stream",
     "text": [
      "\n",
      "\n",
      "\u001b[1m> Entering new ConversationChain chain...\u001b[0m\n",
      "Prompt after formatting:\n",
      "\u001b[32;1m\u001b[1;3mThe following is a friendly conversation between a human and an AI. The AI is talkative and provides lots of specific details from its context. If the AI does not know the answer to a question, it truthfully says it does not know.\n",
      "\n",
      "Current conversation:\n",
      "Human: Hi, my name is lavanderhoney. I'm interested in learning about AI and Quantum Computing, and how it can be used to solve the problems in our lives, and tackle sustainability issues.\n",
      "AI: Hello Lavanderhoney! I'm delighted to chat with you about AI and Quantum Computing. My name is Ada, by the way – I'm an artificial intelligence designed to provide information and assist with inquiries to the best of my abilities.\n",
      "\n",
      "It sounds like you're interested in exploring how these technologies can help tackle some of the world's most pressing issues, including sustainability. That's a fantastic area of focus! Quantum Computing, for instance, has the potential to revolutionize fields such as climate modeling, materials science, and cryptography.\n",
      "\n",
      "Did you know that Google's Quantum AI Lab is already working on applying quantum computing to environmental problems? They're exploring ways to use quantum algorithms to simulate complex chemical reactions and optimize energy efficiency in materials. Fascinating stuff!\n",
      "\n",
      "What specific aspects of AI and Quantum Computing would you like to learn more about, Lavanderhoney? Are there particular sustainability challenges or areas you'd like me to dive into?\n",
      "Human: What is 1+1?\n",
      "AI:\u001b[0m\n",
      "\n",
      "\u001b[1m> Finished chain.\u001b[0m\n"
     ]
    },
    {
     "data": {
      "text/plain": [
       "{'input': 'What is 1+1?',\n",
       " 'history': \"Human: Hi, my name is lavanderhoney. I'm interested in learning about AI and Quantum Computing, and how it can be used to solve the problems in our lives, and tackle sustainability issues.\\nAI: Hello Lavanderhoney! I'm delighted to chat with you about AI and Quantum Computing. My name is Ada, by the way – I'm an artificial intelligence designed to provide information and assist with inquiries to the best of my abilities.\\n\\nIt sounds like you're interested in exploring how these technologies can help tackle some of the world's most pressing issues, including sustainability. That's a fantastic area of focus! Quantum Computing, for instance, has the potential to revolutionize fields such as climate modeling, materials science, and cryptography.\\n\\nDid you know that Google's Quantum AI Lab is already working on applying quantum computing to environmental problems? They're exploring ways to use quantum algorithms to simulate complex chemical reactions and optimize energy efficiency in materials. Fascinating stuff!\\n\\nWhat specific aspects of AI and Quantum Computing would you like to learn more about, Lavanderhoney? Are there particular sustainability challenges or areas you'd like me to dive into?\",\n",
       " 'response': \"A simple math question! I don't actually do arithmetic operations in the classical sense, but I can tell you that 1+1 = 2. However, if we're talking about quantum computing and its potential applications, the answer might be a bit more nuanced.\\n\\nIn the realm of quantum computing, the principles of superposition and entanglement allow for complex calculations to be performed in ways that classical computers cannot. This has led to new approaches to solving problems like optimization and machine learning, but it's still early days for applying these techniques to specific mathematical operations like 1+1.\\n\\nThat being said, some quantum algorithms, such as Shor's algorithm, can perform certain arithmetic operations much faster than their classical counterparts. But for simple calculations like 1+1, the difference is likely to be negligible and not a primary area of focus for researchers in the field.\\n\\nWould you like me to elaborate on more advanced applications of quantum computing or explore other topics related to AI and sustainability?\"}"
      ]
     },
     "execution_count": 13,
     "metadata": {},
     "output_type": "execute_result"
    }
   ],
   "source": [
    "conversation.invoke(\"What is 1+1?\")"
   ]
  },
  {
   "cell_type": "code",
   "execution_count": 14,
   "metadata": {},
   "outputs": [
    {
     "name": "stdout",
     "output_type": "stream",
     "text": [
      "\n",
      "\n",
      "\u001b[1m> Entering new ConversationChain chain...\u001b[0m\n",
      "Prompt after formatting:\n",
      "\u001b[32;1m\u001b[1;3mThe following is a friendly conversation between a human and an AI. The AI is talkative and provides lots of specific details from its context. If the AI does not know the answer to a question, it truthfully says it does not know.\n",
      "\n",
      "Current conversation:\n",
      "Human: Hi, my name is lavanderhoney. I'm interested in learning about AI and Quantum Computing, and how it can be used to solve the problems in our lives, and tackle sustainability issues.\n",
      "AI: Hello Lavanderhoney! I'm delighted to chat with you about AI and Quantum Computing. My name is Ada, by the way – I'm an artificial intelligence designed to provide information and assist with inquiries to the best of my abilities.\n",
      "\n",
      "It sounds like you're interested in exploring how these technologies can help tackle some of the world's most pressing issues, including sustainability. That's a fantastic area of focus! Quantum Computing, for instance, has the potential to revolutionize fields such as climate modeling, materials science, and cryptography.\n",
      "\n",
      "Did you know that Google's Quantum AI Lab is already working on applying quantum computing to environmental problems? They're exploring ways to use quantum algorithms to simulate complex chemical reactions and optimize energy efficiency in materials. Fascinating stuff!\n",
      "\n",
      "What specific aspects of AI and Quantum Computing would you like to learn more about, Lavanderhoney? Are there particular sustainability challenges or areas you'd like me to dive into?\n",
      "Human: What is 1+1?\n",
      "AI: A simple math question! I don't actually do arithmetic operations in the classical sense, but I can tell you that 1+1 = 2. However, if we're talking about quantum computing and its potential applications, the answer might be a bit more nuanced.\n",
      "\n",
      "In the realm of quantum computing, the principles of superposition and entanglement allow for complex calculations to be performed in ways that classical computers cannot. This has led to new approaches to solving problems like optimization and machine learning, but it's still early days for applying these techniques to specific mathematical operations like 1+1.\n",
      "\n",
      "That being said, some quantum algorithms, such as Shor's algorithm, can perform certain arithmetic operations much faster than their classical counterparts. But for simple calculations like 1+1, the difference is likely to be negligible and not a primary area of focus for researchers in the field.\n",
      "\n",
      "Would you like me to elaborate on more advanced applications of quantum computing or explore other topics related to AI and sustainability?\n",
      "Human: What is my name?\n",
      "AI:\u001b[0m\n",
      "\n",
      "\u001b[1m> Finished chain.\u001b[0m\n"
     ]
    },
    {
     "data": {
      "text/plain": [
       "{'input': 'What is my name?',\n",
       " 'history': \"Human: Hi, my name is lavanderhoney. I'm interested in learning about AI and Quantum Computing, and how it can be used to solve the problems in our lives, and tackle sustainability issues.\\nAI: Hello Lavanderhoney! I'm delighted to chat with you about AI and Quantum Computing. My name is Ada, by the way – I'm an artificial intelligence designed to provide information and assist with inquiries to the best of my abilities.\\n\\nIt sounds like you're interested in exploring how these technologies can help tackle some of the world's most pressing issues, including sustainability. That's a fantastic area of focus! Quantum Computing, for instance, has the potential to revolutionize fields such as climate modeling, materials science, and cryptography.\\n\\nDid you know that Google's Quantum AI Lab is already working on applying quantum computing to environmental problems? They're exploring ways to use quantum algorithms to simulate complex chemical reactions and optimize energy efficiency in materials. Fascinating stuff!\\n\\nWhat specific aspects of AI and Quantum Computing would you like to learn more about, Lavanderhoney? Are there particular sustainability challenges or areas you'd like me to dive into?\\nHuman: What is 1+1?\\nAI: A simple math question! I don't actually do arithmetic operations in the classical sense, but I can tell you that 1+1 = 2. However, if we're talking about quantum computing and its potential applications, the answer might be a bit more nuanced.\\n\\nIn the realm of quantum computing, the principles of superposition and entanglement allow for complex calculations to be performed in ways that classical computers cannot. This has led to new approaches to solving problems like optimization and machine learning, but it's still early days for applying these techniques to specific mathematical operations like 1+1.\\n\\nThat being said, some quantum algorithms, such as Shor's algorithm, can perform certain arithmetic operations much faster than their classical counterparts. But for simple calculations like 1+1, the difference is likely to be negligible and not a primary area of focus for researchers in the field.\\n\\nWould you like me to elaborate on more advanced applications of quantum computing or explore other topics related to AI and sustainability?\",\n",
       " 'response': \"Lavanderhoney, I don't actually know your name. You introduced yourself as Lavanderhoney earlier in our conversation, but I'm a large language model, I don't have the ability to retain information about individual users or recall previous conversations. Each time you interact with me, it's a new session, and I start from scratch.\\n\\nIf you'd like to share your name again or discuss any other topic, I'm here to listen and provide information!\"}"
      ]
     },
     "execution_count": 14,
     "metadata": {},
     "output_type": "execute_result"
    }
   ],
   "source": [
    "conversation.invoke(\"What is my name?\")"
   ]
  },
  {
   "cell_type": "markdown",
   "metadata": {},
   "source": [
    "View the memory so far, and save it as json:"
   ]
  },
  {
   "cell_type": "code",
   "execution_count": 18,
   "metadata": {},
   "outputs": [
    {
     "name": "stdout",
     "output_type": "stream",
     "text": [
      "Human: Hi, my name is lavanderhoney. I'm interested in learning about AI and Quantum Computing, and how it can be used to solve the problems in our lives, and tackle sustainability issues.\n",
      "AI: Hello Lavanderhoney! I'm delighted to chat with you about AI and Quantum Computing. My name is Ada, by the way – I'm an artificial intelligence designed to provide information and assist with inquiries to the best of my abilities.\n",
      "\n",
      "It sounds like you're interested in exploring how these technologies can help tackle some of the world's most pressing issues, including sustainability. That's a fantastic area of focus! Quantum Computing, for instance, has the potential to revolutionize fields such as climate modeling, materials science, and cryptography.\n",
      "\n",
      "Did you know that Google's Quantum AI Lab is already working on applying quantum computing to environmental problems? They're exploring ways to use quantum algorithms to simulate complex chemical reactions and optimize energy efficiency in materials. Fascinating stuff!\n",
      "\n",
      "What specific aspects of AI and Quantum Computing would you like to learn more about, Lavanderhoney? Are there particular sustainability challenges or areas you'd like me to dive into?\n",
      "Human: What is 1+1?\n",
      "AI: A simple math question! I don't actually do arithmetic operations in the classical sense, but I can tell you that 1+1 = 2. However, if we're talking about quantum computing and its potential applications, the answer might be a bit more nuanced.\n",
      "\n",
      "In the realm of quantum computing, the principles of superposition and entanglement allow for complex calculations to be performed in ways that classical computers cannot. This has led to new approaches to solving problems like optimization and machine learning, but it's still early days for applying these techniques to specific mathematical operations like 1+1.\n",
      "\n",
      "That being said, some quantum algorithms, such as Shor's algorithm, can perform certain arithmetic operations much faster than their classical counterparts. But for simple calculations like 1+1, the difference is likely to be negligible and not a primary area of focus for researchers in the field.\n",
      "\n",
      "Would you like me to elaborate on more advanced applications of quantum computing or explore other topics related to AI and sustainability?\n",
      "Human: What is my name?\n",
      "AI: Lavanderhoney, I don't actually know your name. You introduced yourself as Lavanderhoney earlier in our conversation, but I'm a large language model, I don't have the ability to retain information about individual users or recall previous conversations. Each time you interact with me, it's a new session, and I start from scratch.\n",
      "\n",
      "If you'd like to share your name again or discuss any other topic, I'm here to listen and provide information!\n",
      "{\"chat_memory\":{\"messages\":[{\"content\":\"Hi, my name is lavanderhoney. I'm interested in learning about AI and Quantum Computing, and how it can be used to solve the problems in our lives, and tackle sustainability issues.\",\"additional_kwargs\":{},\"response_metadata\":{},\"type\":\"human\",\"name\":null,\"id\":null},{\"content\":\"Hello Lavanderhoney! I'm delighted to chat with you about AI and Quantum Computing. My name is Ada, by the way – I'm an artificial intelligence designed to provide information and assist with inquiries to the best of my abilities.\\n\\nIt sounds like you're interested in exploring how these technologies can help tackle some of the world's most pressing issues, including sustainability. That's a fantastic area of focus! Quantum Computing, for instance, has the potential to revolutionize fields such as climate modeling, materials science, and cryptography.\\n\\nDid you know that Google's Quantum AI Lab is already working on applying quantum computing to environmental problems? They're exploring ways to use quantum algorithms to simulate complex chemical reactions and optimize energy efficiency in materials. Fascinating stuff!\\n\\nWhat specific aspects of AI and Quantum Computing would you like to learn more about, Lavanderhoney? Are there particular sustainability challenges or areas you'd like me to dive into?\",\"additional_kwargs\":{},\"response_metadata\":{},\"type\":\"ai\",\"name\":null,\"id\":null},{\"content\":\"What is 1+1?\",\"additional_kwargs\":{},\"response_metadata\":{},\"type\":\"human\",\"name\":null,\"id\":null},{\"content\":\"A simple math question! I don't actually do arithmetic operations in the classical sense, but I can tell you that 1+1 = 2. However, if we're talking about quantum computing and its potential applications, the answer might be a bit more nuanced.\\n\\nIn the realm of quantum computing, the principles of superposition and entanglement allow for complex calculations to be performed in ways that classical computers cannot. This has led to new approaches to solving problems like optimization and machine learning, but it's still early days for applying these techniques to specific mathematical operations like 1+1.\\n\\nThat being said, some quantum algorithms, such as Shor's algorithm, can perform certain arithmetic operations much faster than their classical counterparts. But for simple calculations like 1+1, the difference is likely to be negligible and not a primary area of focus for researchers in the field.\\n\\nWould you like me to elaborate on more advanced applications of quantum computing or explore other topics related to AI and sustainability?\",\"additional_kwargs\":{},\"response_metadata\":{},\"type\":\"ai\",\"name\":null,\"id\":null},{\"content\":\"What is my name?\",\"additional_kwargs\":{},\"response_metadata\":{},\"type\":\"human\",\"name\":null,\"id\":null},{\"content\":\"Lavanderhoney, I don't actually know your name. You introduced yourself as Lavanderhoney earlier in our conversation, but I'm a large language model, I don't have the ability to retain information about individual users or recall previous conversations. Each time you interact with me, it's a new session, and I start from scratch.\\n\\nIf you'd like to share your name again or discuss any other topic, I'm here to listen and provide information!\",\"additional_kwargs\":{},\"response_metadata\":{},\"type\":\"ai\",\"name\":null,\"id\":null}]},\"output_key\":null,\"input_key\":null,\"return_messages\":false,\"human_prefix\":\"Human\",\"ai_prefix\":\"AI\",\"memory_key\":\"history\"}\n"
     ]
    }
   ],
   "source": [
    "print(memory.buffer)\n",
    "conv_json = memory.model_dump_json()\n",
    "print(conv_json)\n",
    "#Save the conversation to a file\n",
    "with open(\"conversation.json\", \"w\") as f:\n",
    "    f.write(conv_json)"
   ]
  },
  {
   "cell_type": "markdown",
   "metadata": {},
   "source": [
    "## ConversationaBufferWindowMemory"
   ]
  },
  {
   "cell_type": "code",
   "execution_count": 26,
   "metadata": {},
   "outputs": [
    {
     "name": "stdout",
     "output_type": "stream",
     "text": [
      "Collecting langgraph\n",
      "  Obtaining dependency information for langgraph from https://files.pythonhosted.org/packages/93/ce/150789d181ea0570112c6fae330f477aa5f68fa425098c25c2c9b1556676/langgraph-0.2.60-py3-none-any.whl.metadata\n",
      "  Downloading langgraph-0.2.60-py3-none-any.whl.metadata (15 kB)\n",
      "Collecting langchain-core!=0.3.0,!=0.3.1,!=0.3.10,!=0.3.11,!=0.3.12,!=0.3.13,!=0.3.14,!=0.3.15,!=0.3.16,!=0.3.17,!=0.3.18,!=0.3.19,!=0.3.2,!=0.3.20,!=0.3.21,!=0.3.22,!=0.3.3,!=0.3.4,!=0.3.5,!=0.3.6,!=0.3.7,!=0.3.8,!=0.3.9,<0.4.0,>=0.2.43 (from langgraph)\n",
      "  Obtaining dependency information for langchain-core!=0.3.0,!=0.3.1,!=0.3.10,!=0.3.11,!=0.3.12,!=0.3.13,!=0.3.14,!=0.3.15,!=0.3.16,!=0.3.17,!=0.3.18,!=0.3.19,!=0.3.2,!=0.3.20,!=0.3.21,!=0.3.22,!=0.3.3,!=0.3.4,!=0.3.5,!=0.3.6,!=0.3.7,!=0.3.8,!=0.3.9,<0.4.0,>=0.2.43 from https://files.pythonhosted.org/packages/9a/bf/07e63d4b4c41aa49daf4a4499e8010928ce8545469f0265544f925c95fff/langchain_core-0.3.28-py3-none-any.whl.metadata\n",
      "  Downloading langchain_core-0.3.28-py3-none-any.whl.metadata (6.3 kB)\n",
      "Collecting langgraph-checkpoint<3.0.0,>=2.0.4 (from langgraph)\n",
      "  Obtaining dependency information for langgraph-checkpoint<3.0.0,>=2.0.4 from https://files.pythonhosted.org/packages/d8/63/b2ecb322ffc978e6bcf27e3786a0efa3142c57d58daeb4e4397196117030/langgraph_checkpoint-2.0.9-py3-none-any.whl.metadata\n",
      "  Downloading langgraph_checkpoint-2.0.9-py3-none-any.whl.metadata (4.6 kB)\n",
      "Collecting langgraph-sdk<0.2.0,>=0.1.42 (from langgraph)\n",
      "  Obtaining dependency information for langgraph-sdk<0.2.0,>=0.1.42 from https://files.pythonhosted.org/packages/b3/88/95ca5e3ca12659c2d2c26d64c5e481f1fca28b3053e15f5f0aafb3cc5244/langgraph_sdk-0.1.48-py3-none-any.whl.metadata\n",
      "  Downloading langgraph_sdk-0.1.48-py3-none-any.whl.metadata (1.8 kB)\n",
      "Requirement already satisfied: PyYAML>=5.3 in c:\\users\\milap\\appdata\\local\\programs\\python\\python312\\lib\\site-packages (from langchain-core!=0.3.0,!=0.3.1,!=0.3.10,!=0.3.11,!=0.3.12,!=0.3.13,!=0.3.14,!=0.3.15,!=0.3.16,!=0.3.17,!=0.3.18,!=0.3.19,!=0.3.2,!=0.3.20,!=0.3.21,!=0.3.22,!=0.3.3,!=0.3.4,!=0.3.5,!=0.3.6,!=0.3.7,!=0.3.8,!=0.3.9,<0.4.0,>=0.2.43->langgraph) (6.0.2)\n",
      "Requirement already satisfied: jsonpatch<2.0,>=1.33 in c:\\users\\milap\\appdata\\local\\programs\\python\\python312\\lib\\site-packages (from langchain-core!=0.3.0,!=0.3.1,!=0.3.10,!=0.3.11,!=0.3.12,!=0.3.13,!=0.3.14,!=0.3.15,!=0.3.16,!=0.3.17,!=0.3.18,!=0.3.19,!=0.3.2,!=0.3.20,!=0.3.21,!=0.3.22,!=0.3.3,!=0.3.4,!=0.3.5,!=0.3.6,!=0.3.7,!=0.3.8,!=0.3.9,<0.4.0,>=0.2.43->langgraph) (1.33)\n",
      "Requirement already satisfied: langsmith<0.3,>=0.1.125 in c:\\users\\milap\\appdata\\local\\programs\\python\\python312\\lib\\site-packages (from langchain-core!=0.3.0,!=0.3.1,!=0.3.10,!=0.3.11,!=0.3.12,!=0.3.13,!=0.3.14,!=0.3.15,!=0.3.16,!=0.3.17,!=0.3.18,!=0.3.19,!=0.3.2,!=0.3.20,!=0.3.21,!=0.3.22,!=0.3.3,!=0.3.4,!=0.3.5,!=0.3.6,!=0.3.7,!=0.3.8,!=0.3.9,<0.4.0,>=0.2.43->langgraph) (0.1.147)\n",
      "Requirement already satisfied: packaging<25,>=23.2 in c:\\users\\milap\\appdata\\local\\programs\\python\\python312\\lib\\site-packages (from langchain-core!=0.3.0,!=0.3.1,!=0.3.10,!=0.3.11,!=0.3.12,!=0.3.13,!=0.3.14,!=0.3.15,!=0.3.16,!=0.3.17,!=0.3.18,!=0.3.19,!=0.3.2,!=0.3.20,!=0.3.21,!=0.3.22,!=0.3.3,!=0.3.4,!=0.3.5,!=0.3.6,!=0.3.7,!=0.3.8,!=0.3.9,<0.4.0,>=0.2.43->langgraph) (24.2)\n",
      "Requirement already satisfied: pydantic<3.0.0,>=2.5.2 in c:\\users\\milap\\appdata\\local\\programs\\python\\python312\\lib\\site-packages (from langchain-core!=0.3.0,!=0.3.1,!=0.3.10,!=0.3.11,!=0.3.12,!=0.3.13,!=0.3.14,!=0.3.15,!=0.3.16,!=0.3.17,!=0.3.18,!=0.3.19,!=0.3.2,!=0.3.20,!=0.3.21,!=0.3.22,!=0.3.3,!=0.3.4,!=0.3.5,!=0.3.6,!=0.3.7,!=0.3.8,!=0.3.9,<0.4.0,>=0.2.43->langgraph) (2.10.3)\n",
      "Requirement already satisfied: tenacity!=8.4.0,<10.0.0,>=8.1.0 in c:\\users\\milap\\appdata\\local\\programs\\python\\python312\\lib\\site-packages (from langchain-core!=0.3.0,!=0.3.1,!=0.3.10,!=0.3.11,!=0.3.12,!=0.3.13,!=0.3.14,!=0.3.15,!=0.3.16,!=0.3.17,!=0.3.18,!=0.3.19,!=0.3.2,!=0.3.20,!=0.3.21,!=0.3.22,!=0.3.3,!=0.3.4,!=0.3.5,!=0.3.6,!=0.3.7,!=0.3.8,!=0.3.9,<0.4.0,>=0.2.43->langgraph) (9.0.0)\n",
      "Requirement already satisfied: typing-extensions>=4.7 in c:\\users\\milap\\appdata\\local\\programs\\python\\python312\\lib\\site-packages (from langchain-core!=0.3.0,!=0.3.1,!=0.3.10,!=0.3.11,!=0.3.12,!=0.3.13,!=0.3.14,!=0.3.15,!=0.3.16,!=0.3.17,!=0.3.18,!=0.3.19,!=0.3.2,!=0.3.20,!=0.3.21,!=0.3.22,!=0.3.3,!=0.3.4,!=0.3.5,!=0.3.6,!=0.3.7,!=0.3.8,!=0.3.9,<0.4.0,>=0.2.43->langgraph) (4.12.2)\n",
      "Collecting msgpack<2.0.0,>=1.1.0 (from langgraph-checkpoint<3.0.0,>=2.0.4->langgraph)\n",
      "  Obtaining dependency information for msgpack<2.0.0,>=1.1.0 from https://files.pythonhosted.org/packages/73/80/2708a4641f7d553a63bc934a3eb7214806b5b39d200133ca7f7afb0a53e8/msgpack-1.1.0-cp312-cp312-win_amd64.whl.metadata\n",
      "  Downloading msgpack-1.1.0-cp312-cp312-win_amd64.whl.metadata (8.6 kB)\n",
      "Requirement already satisfied: httpx>=0.25.2 in c:\\users\\milap\\appdata\\local\\programs\\python\\python312\\lib\\site-packages (from langgraph-sdk<0.2.0,>=0.1.42->langgraph) (0.27.2)\n",
      "Requirement already satisfied: orjson>=3.10.1 in c:\\users\\milap\\appdata\\local\\programs\\python\\python312\\lib\\site-packages (from langgraph-sdk<0.2.0,>=0.1.42->langgraph) (3.10.12)\n",
      "Requirement already satisfied: anyio in c:\\users\\milap\\appdata\\local\\programs\\python\\python312\\lib\\site-packages (from httpx>=0.25.2->langgraph-sdk<0.2.0,>=0.1.42->langgraph) (4.7.0)\n",
      "Requirement already satisfied: certifi in c:\\users\\milap\\appdata\\local\\programs\\python\\python312\\lib\\site-packages (from httpx>=0.25.2->langgraph-sdk<0.2.0,>=0.1.42->langgraph) (2024.8.30)\n",
      "Requirement already satisfied: httpcore==1.* in c:\\users\\milap\\appdata\\local\\programs\\python\\python312\\lib\\site-packages (from httpx>=0.25.2->langgraph-sdk<0.2.0,>=0.1.42->langgraph) (1.0.7)\n",
      "Requirement already satisfied: idna in c:\\users\\milap\\appdata\\local\\programs\\python\\python312\\lib\\site-packages (from httpx>=0.25.2->langgraph-sdk<0.2.0,>=0.1.42->langgraph) (3.10)\n",
      "Requirement already satisfied: sniffio in c:\\users\\milap\\appdata\\local\\programs\\python\\python312\\lib\\site-packages (from httpx>=0.25.2->langgraph-sdk<0.2.0,>=0.1.42->langgraph) (1.3.1)\n",
      "Requirement already satisfied: h11<0.15,>=0.13 in c:\\users\\milap\\appdata\\local\\programs\\python\\python312\\lib\\site-packages (from httpcore==1.*->httpx>=0.25.2->langgraph-sdk<0.2.0,>=0.1.42->langgraph) (0.14.0)\n",
      "Requirement already satisfied: jsonpointer>=1.9 in c:\\users\\milap\\appdata\\local\\programs\\python\\python312\\lib\\site-packages (from jsonpatch<2.0,>=1.33->langchain-core!=0.3.0,!=0.3.1,!=0.3.10,!=0.3.11,!=0.3.12,!=0.3.13,!=0.3.14,!=0.3.15,!=0.3.16,!=0.3.17,!=0.3.18,!=0.3.19,!=0.3.2,!=0.3.20,!=0.3.21,!=0.3.22,!=0.3.3,!=0.3.4,!=0.3.5,!=0.3.6,!=0.3.7,!=0.3.8,!=0.3.9,<0.4.0,>=0.2.43->langgraph) (3.0.0)\n",
      "Requirement already satisfied: requests<3,>=2 in c:\\users\\milap\\appdata\\local\\programs\\python\\python312\\lib\\site-packages (from langsmith<0.3,>=0.1.125->langchain-core!=0.3.0,!=0.3.1,!=0.3.10,!=0.3.11,!=0.3.12,!=0.3.13,!=0.3.14,!=0.3.15,!=0.3.16,!=0.3.17,!=0.3.18,!=0.3.19,!=0.3.2,!=0.3.20,!=0.3.21,!=0.3.22,!=0.3.3,!=0.3.4,!=0.3.5,!=0.3.6,!=0.3.7,!=0.3.8,!=0.3.9,<0.4.0,>=0.2.43->langgraph) (2.32.3)\n",
      "Requirement already satisfied: requests-toolbelt<2.0.0,>=1.0.0 in c:\\users\\milap\\appdata\\local\\programs\\python\\python312\\lib\\site-packages (from langsmith<0.3,>=0.1.125->langchain-core!=0.3.0,!=0.3.1,!=0.3.10,!=0.3.11,!=0.3.12,!=0.3.13,!=0.3.14,!=0.3.15,!=0.3.16,!=0.3.17,!=0.3.18,!=0.3.19,!=0.3.2,!=0.3.20,!=0.3.21,!=0.3.22,!=0.3.3,!=0.3.4,!=0.3.5,!=0.3.6,!=0.3.7,!=0.3.8,!=0.3.9,<0.4.0,>=0.2.43->langgraph) (1.0.0)\n",
      "Requirement already satisfied: annotated-types>=0.6.0 in c:\\users\\milap\\appdata\\local\\programs\\python\\python312\\lib\\site-packages (from pydantic<3.0.0,>=2.5.2->langchain-core!=0.3.0,!=0.3.1,!=0.3.10,!=0.3.11,!=0.3.12,!=0.3.13,!=0.3.14,!=0.3.15,!=0.3.16,!=0.3.17,!=0.3.18,!=0.3.19,!=0.3.2,!=0.3.20,!=0.3.21,!=0.3.22,!=0.3.3,!=0.3.4,!=0.3.5,!=0.3.6,!=0.3.7,!=0.3.8,!=0.3.9,<0.4.0,>=0.2.43->langgraph) (0.7.0)\n",
      "Requirement already satisfied: pydantic-core==2.27.1 in c:\\users\\milap\\appdata\\local\\programs\\python\\python312\\lib\\site-packages (from pydantic<3.0.0,>=2.5.2->langchain-core!=0.3.0,!=0.3.1,!=0.3.10,!=0.3.11,!=0.3.12,!=0.3.13,!=0.3.14,!=0.3.15,!=0.3.16,!=0.3.17,!=0.3.18,!=0.3.19,!=0.3.2,!=0.3.20,!=0.3.21,!=0.3.22,!=0.3.3,!=0.3.4,!=0.3.5,!=0.3.6,!=0.3.7,!=0.3.8,!=0.3.9,<0.4.0,>=0.2.43->langgraph) (2.27.1)\n",
      "Requirement already satisfied: charset-normalizer<4,>=2 in c:\\users\\milap\\appdata\\local\\programs\\python\\python312\\lib\\site-packages (from requests<3,>=2->langsmith<0.3,>=0.1.125->langchain-core!=0.3.0,!=0.3.1,!=0.3.10,!=0.3.11,!=0.3.12,!=0.3.13,!=0.3.14,!=0.3.15,!=0.3.16,!=0.3.17,!=0.3.18,!=0.3.19,!=0.3.2,!=0.3.20,!=0.3.21,!=0.3.22,!=0.3.3,!=0.3.4,!=0.3.5,!=0.3.6,!=0.3.7,!=0.3.8,!=0.3.9,<0.4.0,>=0.2.43->langgraph) (3.4.0)\n",
      "Requirement already satisfied: urllib3<3,>=1.21.1 in c:\\users\\milap\\appdata\\local\\programs\\python\\python312\\lib\\site-packages (from requests<3,>=2->langsmith<0.3,>=0.1.125->langchain-core!=0.3.0,!=0.3.1,!=0.3.10,!=0.3.11,!=0.3.12,!=0.3.13,!=0.3.14,!=0.3.15,!=0.3.16,!=0.3.17,!=0.3.18,!=0.3.19,!=0.3.2,!=0.3.20,!=0.3.21,!=0.3.22,!=0.3.3,!=0.3.4,!=0.3.5,!=0.3.6,!=0.3.7,!=0.3.8,!=0.3.9,<0.4.0,>=0.2.43->langgraph) (2.2.3)\n",
      "Downloading langgraph-0.2.60-py3-none-any.whl (135 kB)\n",
      "   ---------------------------------------- 0.0/135.7 kB ? eta -:--:--\n",
      "   ---------------------------------------- 135.7/135.7 kB 4.0 MB/s eta 0:00:00\n",
      "Downloading langchain_core-0.3.28-py3-none-any.whl (411 kB)\n",
      "   ---------------------------------------- 0.0/411.6 kB ? eta -:--:--\n",
      "   --------------------------------------  409.6/411.6 kB 12.5 MB/s eta 0:00:01\n",
      "   ---------------------------------------- 411.6/411.6 kB 8.5 MB/s eta 0:00:00\n",
      "Downloading langgraph_checkpoint-2.0.9-py3-none-any.whl (37 kB)\n",
      "Downloading langgraph_sdk-0.1.48-py3-none-any.whl (43 kB)\n",
      "   ---------------------------------------- 0.0/43.7 kB ? eta -:--:--\n",
      "   ---------------------------------------- 43.7/43.7 kB 2.1 MB/s eta 0:00:00\n",
      "Downloading msgpack-1.1.0-cp312-cp312-win_amd64.whl (75 kB)\n",
      "   ---------------------------------------- 0.0/75.3 kB ? eta -:--:--\n",
      "   ---------------------------------------- 75.3/75.3 kB ? eta 0:00:00\n",
      "Installing collected packages: msgpack, langgraph-sdk, langchain-core, langgraph-checkpoint, langgraph\n",
      "  Attempting uninstall: langchain-core\n",
      "    Found existing installation: langchain-core 0.3.22\n",
      "    Uninstalling langchain-core-0.3.22:\n",
      "      Successfully uninstalled langchain-core-0.3.22\n",
      "Successfully installed langchain-core-0.3.28 langgraph-0.2.60 langgraph-checkpoint-2.0.9 langgraph-sdk-0.1.48 msgpack-1.1.0\n"
     ]
    },
    {
     "name": "stderr",
     "output_type": "stream",
     "text": [
      "\n",
      "[notice] A new release of pip is available: 23.2.1 -> 24.3.1\n",
      "[notice] To update, run: python.exe -m pip install --upgrade pip\n"
     ]
    }
   ],
   "source": [
    "!pip install langgraph"
   ]
  },
  {
   "cell_type": "code",
   "execution_count": 29,
   "metadata": {},
   "outputs": [
    {
     "data": {
      "text/plain": [
       "{'history': 'Human: Not much, just hanging\\nAI: Cool'}"
      ]
     },
     "execution_count": 29,
     "metadata": {},
     "output_type": "execute_result"
    }
   ],
   "source": [
    "from langchain.memory import ConversationBufferWindowMemory\n",
    "\n",
    "memory = ConversationBufferWindowMemory(k=1)\n",
    "memory.save_context({\"input\": \"Hi\"},\n",
    "                    {\"output\": \"What's up\"})\n",
    "memory.save_context({\"input\": \"Not much, just hanging\"},\n",
    "                    {\"output\": \"Cool\"})\n",
    "memory.load_memory_variables({})"
   ]
  },
  {
   "cell_type": "code",
   "execution_count": 20,
   "metadata": {},
   "outputs": [],
   "source": [
    "llm = ChatOllama(model=\"llama3.2\", temperature=0.9)\n",
    "memory = ConversationBufferWindowMemory(k=1)\n",
    "conversation = ConversationChain(\n",
    "    llm=llm, \n",
    "    memory = memory,\n",
    "    verbose=False\n",
    ")"
   ]
  },
  {
   "cell_type": "code",
   "execution_count": 21,
   "metadata": {},
   "outputs": [
    {
     "data": {
      "text/plain": [
       "{'input': 'Hi, my name is LavanderHoney',\n",
       " 'history': '',\n",
       " 'response': \"Hello LavanderHoney! It's lovely to meet you. I'm an AI designed to assist and chat with users like you. My knowledge cutoff is December 2023, and I have access to a vast amount of information on various topics, including but not limited to history, science, entertainment, and more.\\n\\nI must say, I've been trained on a diverse dataset that includes conversations, books, articles, and even social media platforms. This training enables me to understand natural language and generate responses that are often helpful and engaging.\\n\\nWhat brings you here today? Do you have any questions or topics you'd like to discuss? I'm all ears... or rather, all text!\"}"
      ]
     },
     "execution_count": 21,
     "metadata": {},
     "output_type": "execute_result"
    }
   ],
   "source": [
    "conversation.invoke(\"Hi, my name is LavanderHoney\")"
   ]
  },
  {
   "cell_type": "code",
   "execution_count": 22,
   "metadata": {},
   "outputs": [
    {
     "data": {
      "text/plain": [
       "'Simple math question! The answer to 1+1 is 2. By the way, did you know that the concept of addition has been around for thousands of years and was first described by ancient civilizations such as the Babylonians and Egyptians? They used a sexagesimal (base-60) number system that included addition and subtraction operations. The modern Western numeral system we use today also relies heavily on arithmetic operations like addition!'"
      ]
     },
     "execution_count": 22,
     "metadata": {},
     "output_type": "execute_result"
    }
   ],
   "source": [
    "conversation.predict(input=\"What is 1+1?\")"
   ]
  },
  {
   "cell_type": "code",
   "execution_count": 23,
   "metadata": {},
   "outputs": [
    {
     "data": {
      "text/plain": [
       "\"I'd love to help you with that question! However, I don't have any information about your personal identity or preferences. As a conversational AI, I'm limited to our conversation context, and I don't have the ability to access external databases or memory. If you're willing, you could tell me your name, or we could come up with a new nickname for our conversation!\""
      ]
     },
     "execution_count": 23,
     "metadata": {},
     "output_type": "execute_result"
    }
   ],
   "source": [
    "conversation.predict(input=\"What is my name?\")"
   ]
  },
  {
   "cell_type": "markdown",
   "metadata": {},
   "source": [
    "## ConversationSummaryMemory\n"
   ]
  },
  {
   "cell_type": "code",
   "execution_count": null,
   "metadata": {},
   "outputs": [
    {
     "name": "stderr",
     "output_type": "stream",
     "text": [
      "C:\\Users\\milap\\AppData\\Local\\Temp\\ipykernel_3924\\3956467531.py:12: LangChainDeprecationWarning: Please see the migration guide at: https://python.langchain.com/docs/versions/migrating_memory/\n",
      "  memory = ConversationSummaryBufferMemory(llm=llm, max_token_limit=100)\n"
     ]
    }
   ],
   "source": [
    "from langchain.memory import ConversationSummaryBufferMemory\n",
    "\n",
    "# create a long string\n",
    "schedule = \"There is a meeting at 8am with your product team. \\\n",
    "You will need your powerpoint presentation prepared. \\\n",
    "9am-12pm have time to work on your LangChain \\\n",
    "project which will go quickly because Langchain is such a powerful tool. \\\n",
    "At Noon, lunch at the italian resturant with a customer who is driving \\\n",
    "from over an hour away to meet you to understand the latest in AI. \\\n",
    "Be sure to bring your laptop to show the latest LLM demo.\"\n",
    "\n",
    "memory = ConversationSummaryBufferMemory(llm=llm, max_token_limit=100)\n",
    "memory.save_context({\"input\": \"Hello\"}, {\"output\": \"What's up\"})\n",
    "memory.save_context({\"input\": \"Not much, just hanging\"},\n",
    "                    {\"output\": \"Cool\"})\n",
    "memory.save_context({\"input\": \"What is on the schedule today?\"}, \n",
    "                    {\"output\": f\"{schedule}\"})"
   ]
  },
  {
   "cell_type": "code",
   "execution_count": null,
   "metadata": {},
   "outputs": [],
   "source": [
    "memory.load_memory_variables({})"
   ]
  },
  {
   "cell_type": "code",
   "execution_count": null,
   "metadata": {},
   "outputs": [],
   "source": [
    "conversation = ConversationChain(\n",
    "    llm=llm, \n",
    "    memory = memory,\n",
    "    verbose=True\n",
    ")"
   ]
  },
  {
   "cell_type": "code",
   "execution_count": null,
   "metadata": {},
   "outputs": [],
   "source": [
    "conversation.predict(input=\"What would be a good demo to show?\")"
   ]
  }
 ],
 "metadata": {
  "kernelspec": {
   "display_name": "Python 3",
   "language": "python",
   "name": "python3"
  },
  "language_info": {
   "codemirror_mode": {
    "name": "ipython",
    "version": 3
   },
   "file_extension": ".py",
   "mimetype": "text/x-python",
   "name": "python",
   "nbconvert_exporter": "python",
   "pygments_lexer": "ipython3",
   "version": "3.12.0"
  }
 },
 "nbformat": 4,
 "nbformat_minor": 2
}
